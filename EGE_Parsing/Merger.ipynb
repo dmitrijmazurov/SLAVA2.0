{
 "cells": [
  {
   "cell_type": "code",
   "execution_count": null,
   "id": "de207eb8",
   "metadata": {},
   "outputs": [],
   "source": [
    "import json\n",
    "import glob\n",
    "\n",
    "all_data = []\n",
    "\n",
    "# Получаем список файлов, например, file1.json, file2.json и т.д.\n",
    "for filename in glob.glob('*.json'):\n",
    "    with open(filename, 'r', encoding='utf-8') as f:\n",
    "        data = json.load(f)\n",
    "        all_data.extend(data)  # добавляем элементы массива\n",
    "\n",
    "# Сохраняем общий файл\n",
    "with open('final_ochka_dirty.json', 'w', encoding='utf-8') as f:\n",
    "    json.dump(all_data, f, ensure_ascii=False, indent=4)"
   ]
  }
 ],
 "metadata": {
  "language_info": {
   "name": "python"
  }
 },
 "nbformat": 4,
 "nbformat_minor": 5
}
